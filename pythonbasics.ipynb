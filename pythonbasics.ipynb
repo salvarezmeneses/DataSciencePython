{
 "cells": [
  {
   "cell_type": "code",
   "execution_count": null,
   "metadata": {},
   "outputs": [],
   "source": [
    "texto\n"
   ]
  }
 ],
 "metadata": {
  "kernelspec": {
   "display_name": "Python 3",
   "language": "python",
   "name": "python3"
  },
  "language_info": {
   "codemirror_mode": {
    "name": "ipython",
    "version": 3
   },
   "file_extension": ".py",
   "mimetype": "text/x-python",
   "name": "python",
   "nbconvert_exporter": "python",
   "pygments_lexer": "ipython3",
   "version": "3.6.4"
  }
 },
 "nbformat": 4,
 "nbformat_minor": 2
}

¿Que es python?
Es un lenguaje de programación que tiene como filosofía que su sintaxis sea sencilla y cercana al lenguaje natural.

Algunos datos sobre Python
Python fue creado a finales de los ochenta por Guido van Rossum
Posee una licencia de codigo abierto denominada Python Software Foundation License.
sistema operativo; es multiplataforma.
su nombre proviene Los Monty Python, un grupo británico de humoristas de los años 1960 y 1970 en Inglaterra.
la extensión de un archivo en python es .py


Generalidades.
estas notas de python son especificas para ciencia de datos.
¿Que aprenderá?

Almacenamiento de datos (Store Data).
Manipulación de datos (Manipulate data).
Herramientas para Análisis de datos. (tools data analysis)
