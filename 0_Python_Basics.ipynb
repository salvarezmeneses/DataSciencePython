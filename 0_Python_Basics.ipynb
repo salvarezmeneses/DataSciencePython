{
  "nbformat": 4,
  "nbformat_minor": 0,
  "metadata": {
    "colab": {
      "name": "0.Python Basics.ipynb",
      "provenance": [],
      "collapsed_sections": [],
      "include_colab_link": true
    },
    "kernelspec": {
      "name": "python3",
      "display_name": "Python 3"
    }
  },
  "cells": [
    {
      "cell_type": "markdown",
      "metadata": {
        "id": "view-in-github",
        "colab_type": "text"
      },
      "source": [
        "<a href=\"https://colab.research.google.com/github/salvarezmeneses/DataSciencePython/blob/master/0_Python_Basics.ipynb\" target=\"_parent\"><img src=\"https://colab.research.google.com/assets/colab-badge.svg\" alt=\"Open In Colab\"/></a>"
      ]
    },
    {
      "cell_type": "code",
      "metadata": {
        "id": "72NVLlHsgaOt",
        "colab_type": "code",
        "outputId": "d6285ebe-3d78-4c6d-b75c-f7d621029586",
        "colab": {
          "base_uri": "https://localhost:8080/",
          "height": 374
        }
      },
      "source": [
        "# zen de python\n",
        "import this"
      ],
      "execution_count": 0,
      "outputs": [
        {
          "output_type": "stream",
          "text": [
            "The Zen of Python, by Tim Peters\n",
            "\n",
            "Beautiful is better than ugly.\n",
            "Explicit is better than implicit.\n",
            "Simple is better than complex.\n",
            "Complex is better than complicated.\n",
            "Flat is better than nested.\n",
            "Sparse is better than dense.\n",
            "Readability counts.\n",
            "Special cases aren't special enough to break the rules.\n",
            "Although practicality beats purity.\n",
            "Errors should never pass silently.\n",
            "Unless explicitly silenced.\n",
            "In the face of ambiguity, refuse the temptation to guess.\n",
            "There should be one-- and preferably only one --obvious way to do it.\n",
            "Although that way may not be obvious at first unless you're Dutch.\n",
            "Now is better than never.\n",
            "Although never is often better than *right* now.\n",
            "If the implementation is hard to explain, it's a bad idea.\n",
            "If the implementation is easy to explain, it may be a good idea.\n",
            "Namespaces are one honking great idea -- let's do more of those!\n"
          ],
          "name": "stdout"
        }
      ]
    },
    {
      "cell_type": "markdown",
      "metadata": {
        "id": "H0QG4Dw-Gswm",
        "colab_type": "text"
      },
      "source": [
        "**TEMA 1**: Introducción y bases.\n",
        "\n",
        "#  Introducción e Historia.\n",
        "\n",
        "**¿Que es Python?**\n",
        "* Es un lenguaje de programación que tiene como filosofía que su sintaxis sea sencilla y cercana al lenguaje natural.\n",
        "\n",
        "**Algunos datos sobre Python**\n",
        "* Python fue creado a finales de los ochenta por Guido van Rossum\n",
        "* Posee una licencia de código abierto denominada Python Software Foundation License.\n",
        "* su nombre proviene Los Monty Python, un grupo británico de humoristas de los años 1960 y 1970 en Inglaterra.\n",
        "la extensión de un archivo en python es .py\n",
        "* sistema operativo; es multiplataforma.\n",
        "* el zen de python: https://gist.github.com/javierdaza/4258b74e2eb7cfd4f55286061b592f37\n",
        "\n",
        "# Lenguajes compilados vs Interpretados.\n",
        "\n",
        "**Lenguaje compilado:**\n",
        "* Con un lenguaje compilado se escribe un còdigo fuente , luego se emplea un programa conocido como `compilador`\n",
        "que recorre el còdigo fuente y genera un archivo ejecutable. de esta manera se  conserva independientemente el còdigo fuente y el ejecutable.\n",
        "\n",
        "**Lenguaje Interpretado:**\n",
        "* Requiere un interprete, toma el codigo fuente lo interpreta (lo traduce y lo ejecuta a la vez.)\n",
        "* Python es un lenguaje de programación **interpretado**\n",
        "   * beneficios: encontrar errores.\n",
        "   \n",
        "# Entornos o modos\n",
        "  \n",
        "## Modo interactivo:\n",
        "* se escriben las instrucciones en una terminal o intérprete de comandos.\n",
        "* una vez se tenga instalado python se ingresa al modo interactivo digitando\n",
        " en terminal python y aparecera los simbolos '' >>> ''\n",
        " ''>>>'' aqui se puede iniciar a digitar codigo\n",
        "\n",
        "* las expresiones pueden ser introducidas una a una,pudiendo verse el resultado de su evaluación inmediatamente.\n",
        "* es util para probar porciones de código en el modo interactivo antes de integrarlo como parte de un programa.\n",
        "* existen programas como IPYTHON ue añaden funcionalidades extra al modo interactivo, como el autocompletado \n",
        "de código y el coloreado de la sintaxis del lenguaje.\n",
        "\n",
        "\n",
        "\n",
        "\n",
        "\n",
        "\n",
        "\n",
        "\n",
        "\n"
      ]
    },
    {
      "cell_type": "code",
      "metadata": {
        "id": "g8FlCIDcEOit",
        "colab_type": "code",
        "outputId": "c6eceb1f-cfee-473a-862b-bd9827d26e77",
        "colab": {
          "base_uri": "https://localhost:8080/",
          "height": 34
        }
      },
      "source": [
        "## Primer Programa (en Interprete)\n",
        "\n",
        "# operación simple\n",
        "1+1\n",
        "\n",
        "# rango\n",
        "a = range(10)\n",
        "type(a)\n",
        "print(list(a))\n"
      ],
      "execution_count": 0,
      "outputs": [
        {
          "output_type": "stream",
          "text": [
            "[0, 1, 2, 3, 4, 5, 6, 7, 8, 9]\n"
          ],
          "name": "stdout"
        }
      ]
    },
    {
      "cell_type": "markdown",
      "metadata": {
        "id": "oz2TMZKbI2ss",
        "colab_type": "text"
      },
      "source": [
        "# Modo Scripting : Script mode\n",
        " * Se escriben las sentencias en un script o fichero para luego ser ejecutadas.\n",
        " * Para desarollar un programa siempre se debe hacer en el modo Script.\n",
        " \n",
        " ## Ejecutar Modo Scripting en Google Collab (How to run a .py file in colab)\n",
        "* **Crear un archivo .py:** crear un nuevo archivo en collab quedara con la extensión ipynb, para  guardarlo a .py ir al menu, archivo > descargar .py\n",
        "* **Guardar .py en drive**: Cargar el archivo en colab y obtener la ruta \n",
        "   * Ruta:'/content/drive/My Drive/Colab Notebooks/\n",
        "* **Montar el contenido en drive**: se usa los comandos para montar \n",
        "* **Ejecutar el archivo.py**: \n"
      ]
    },
    {
      "cell_type": "code",
      "metadata": {
        "id": "jS2r_clAYtQn",
        "colab_type": "code",
        "colab": {}
      },
      "source": [
        "# Montaje del contenido del drive.\n",
        "from google.colab import drive\n",
        "drive.mount('/content/drive',force_remount=True)\n",
        "\n",
        "import os\n",
        "os.chdir('/content/drive/My Drive/Colab Notebooks/PYTHON/UDM')\n",
        "!ls \n",
        "#!ls '/content/drive/My Drive/Colab Notebooks/PYTHON/UDM/' "
      ],
      "execution_count": 0,
      "outputs": []
    },
    {
      "cell_type": "code",
      "metadata": {
        "id": "bFgjjZmgJPnB",
        "colab_type": "code",
        "outputId": "59e870b4-4158-47cf-8b06-3bd7c0c26663",
        "colab": {
          "base_uri": "https://localhost:8080/",
          "height": 34
        }
      },
      "source": [
        "# Primer Programa (en Modo Scripting)\n",
        "# Ejecutar el .py , una vez montado el contenido en drive\n",
        "!python3 one_py.py "
      ],
      "execution_count": 0,
      "outputs": [
        {
          "output_type": "stream",
          "text": [
            "Este es un ejemplo del modo scripting\n"
          ],
          "name": "stdout"
        }
      ]
    },
    {
      "cell_type": "code",
      "metadata": {
        "id": "G7_XJtZYYxz-",
        "colab_type": "code",
        "colab": {}
      },
      "source": [
        "# Cargar archivos desde el PC a Google Collab\n",
        "from google.colab import files\n",
        "uploaded = files.upload()"
      ],
      "execution_count": 0,
      "outputs": []
    }
  ]
}